{
 "cells": [
  {
   "cell_type": "markdown",
   "metadata": {},
   "source": [
    "10/30: Started working on implememting an IA model. Read through the PDP handbook to get a sense of how it works. Conclusion: three levels, each composed of units for having and not having certain features, sometimes organized into sets (ie on feature level). Units have excitory or inhibitory effects on each other, varying between levels. Began coding, establishing a unit class and hardcoding in the features per letter. Wrangled github."
   ]
  },
  {
   "cell_type": "markdown",
   "metadata": {},
   "source": [
    "10/31: In class work."
   ]
  }
 ],
 "metadata": {
  "kernelspec": {
   "display_name": "Python 3",
   "language": "python",
   "name": "python3"
  },
  "language_info": {
   "codemirror_mode": {
    "name": "ipython",
    "version": 3
   },
   "file_extension": ".py",
   "mimetype": "text/x-python",
   "name": "python",
   "nbconvert_exporter": "python",
   "pygments_lexer": "ipython3",
   "version": "3.5.2"
  }
 },
 "nbformat": 4,
 "nbformat_minor": 2
}
