{
 "cells": [
  {
   "cell_type": "markdown",
   "metadata": {},
   "source": [
    "10-30-2018: Began discussions and in-depth readings to fully understand a hypothetical implementation of the Interactive Activation model. We've reached an understanding of the basic three-layer structure of the model, with inter-level and in-level excitatory/inhibitory connections that weight the activation levels of connected nodes. Began code, Unit class and main function. Made github repository."
   ]
  },
  {
   "cell_type": "markdown",
   "metadata": {},
   "source": [
    "10-31-2018: In-class work time. Continued discussion/basic code foundation of model. Began modifying Unit class to specifications."
   ]
  },
  {
   "cell_type": "markdown",
   "metadata": {},
   "source": [
    "11-7-2018: Wrote functions for importing necessary data. Assisted with coding of feature and letter levels. Finished unit modifications. Finished total specification of model."
   ]
  },
  {
   "cell_type": "markdown",
   "metadata": {},
   "source": [
    "11-8-2018: Coded word level of model. Reworked portions of existing code. Coded mathematics necessary for unit activation modification and updating letters via the feature to letter connections."
   ]
  },
  {
   "cell_type": "markdown",
   "metadata": {},
   "source": [
    "11-10-2018: Finished basic IA model functionality. Works for test sets. Nearly finished extended IA model functionality, graphed some test data, explored options for experimental input. Compared to established IA model research."
   ]
  },
  {
   "cell_type": "markdown",
   "metadata": {},
   "source": [
    "11-11-2018: Finished BIA model functionality alongside Miriam"
   ]
  },
  {
   "cell_type": "markdown",
   "metadata": {},
   "source": [
    "11-13-2018: Wrote comprehensive outline for paper + abstract, Miriam added output methods."
   ]
  },
  {
   "cell_type": "markdown",
   "metadata": {},
   "source": [
    "11-15-2018: Extensive work on paper. First drafted Overview, beginning of Background, Model, References sections of paper."
   ]
  },
  {
   "cell_type": "markdown",
   "metadata": {},
   "source": [
    "11-16-2018: Finished all aforementioned sections in addition to Implementation section, formatted and imported all necessary figures. Polished up odds and ends."
   ]
  },
  {
   "cell_type": "code",
   "execution_count": null,
   "metadata": {},
   "outputs": [],
   "source": []
  }
 ],
 "metadata": {
  "kernelspec": {
   "display_name": "Python 3",
   "language": "python",
   "name": "python3"
  },
  "language_info": {
   "codemirror_mode": {
    "name": "ipython",
    "version": 3
   },
   "file_extension": ".py",
   "mimetype": "text/x-python",
   "name": "python",
   "nbconvert_exporter": "python",
   "pygments_lexer": "ipython3",
   "version": "3.5.2"
  }
 },
 "nbformat": 4,
 "nbformat_minor": 2
}
