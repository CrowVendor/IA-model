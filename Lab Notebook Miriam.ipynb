{
 "cells": [
  {
   "cell_type": "markdown",
   "metadata": {},
   "source": [
    "10/30: Started working on implememting an IA model. Read through the PDP handbook to get a sense of how it works. Conclusion: three levels, each composed of units for having and not having certain features, sometimes organized into sets (ie on feature level). Units have excitory or inhibitory effects on each other, varying between levels. Began coding, establishing a unit class and hardcoding in the features per letter. Wrangled github."
   ]
  },
  {
   "cell_type": "markdown",
   "metadata": {},
   "source": [
    "10/31: In class work."
   ]
  },
  {
   "cell_type": "markdown",
   "metadata": {},
   "source": [
    "11/7: Instantiated the feature and letter levels, and connections between them. Modified Unit heavily. Discussed overall layout of model with Max. "
   ]
  },
  {
   "cell_type": "markdown",
   "metadata": {},
   "source": [
    "11/8: Instantiated word level and letter->word connections. Redid connection and unit format multiple times. Wrote update function for feature->letter, which will be very similar to other update functions to be added. Debugged. Looked deeper into various functions for unit activations. "
   ]
  },
  {
   "cell_type": "markdown",
   "metadata": {},
   "source": [
    "11/10: Completed modeling section of IA model, still need to format input and output. Tested it on just one word as input, seemed to work well. Will resume later today."
   ]
  },
  {
   "cell_type": "markdown",
   "metadata": {},
   "source": [
    "11/10 cont: added in output display (activations for each cycle for words with highest final activations). Added in some more factors for # cycles etc. Found/made database of ~1000 english words. Still need to add more user choice in input, and possibly more forms of output. Considering: deciding which words to look at by some other factor, possibly change in activation? mclelland/rumelhart 1998 has an intergral?; possibly have a check for how many cycles to reach certain activation for the correct word, use as response time to compare to experimental data"
   ]
  },
  {
   "cell_type": "markdown",
   "metadata": {},
   "source": [
    "11/11: implemented BIA extension of IA. Added in language level, relevant connections and updates. Found a database of ~500 dutch words. Still need to figure out parameter values for language inhibition etc. Considering that much of our data is pulled from frequency lists, consider weighting by frequency?"
   ]
  },
  {
   "cell_type": "code",
   "execution_count": null,
   "metadata": {},
   "outputs": [],
   "source": []
  }
 ],
 "metadata": {
  "kernelspec": {
   "display_name": "Python 3",
   "language": "python",
   "name": "python3"
  },
  "language_info": {
   "codemirror_mode": {
    "name": "ipython",
    "version": 3
   },
   "file_extension": ".py",
   "mimetype": "text/x-python",
   "name": "python",
   "nbconvert_exporter": "python",
   "pygments_lexer": "ipython3",
   "version": "3.5.2"
  }
 },
 "nbformat": 4,
 "nbformat_minor": 2
}
